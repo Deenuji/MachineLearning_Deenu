{
 "cells": [
  {
   "cell_type": "code",
   "execution_count": 2,
   "metadata": {},
   "outputs": [],
   "source": [
    "#Implement a function longestWord() that takes a list of words and returns the longest one\n",
    "def longestword(Words):\n",
    "    Word_split=Words.split()\n",
    "    Word_Length=[]\n",
    "    for i in Word_split:\n",
    "        Word_Length.append((len(i),i))\n",
    "    Word_Length.sort()\n",
    "    print('All words in the list with length:\\n',Word_Length)#check complete list \n",
    "    print('Longest word in the given list: %s \\nLength size: %s' % (str(Word_Length[-1][1]),Word_Length[-1][0]));\n",
    "          #Display longest index word\n",
    "  \n"
   ]
  },
  {
   "cell_type": "code",
   "execution_count": 3,
   "metadata": {},
   "outputs": [
    {
     "name": "stdout",
     "output_type": "stream",
     "text": [
      "All words in the list with length:\n",
      " [(1, 'I'), (2, 'am'), (3, 'How'), (3, 'are'), (4, 'you?'), (5, 'Hello'), (10, 'chirstiana')]\n",
      "Longest word in the given list: chirstiana \n",
      "Length size: 10\n"
     ]
    }
   ],
   "source": [
    "longestword(\"Hello How are you? I am chirstiana\")"
   ]
  },
  {
   "cell_type": "code",
   "execution_count": 4,
   "metadata": {},
   "outputs": [
    {
     "name": "stdout",
     "output_type": "stream",
     "text": [
      "['A', 'C', 'A', 'D', 'G', 'I', 'L', 'D']\n",
      "['x', 'xx', 'xxx', 'xxxx', 'y', 'yy', 'yyy', 'yyyy', 'z', 'zz', 'zzz', 'zzzz']\n",
      "['x', 'y', 'z', 'xx', 'yy', 'zz', 'xxx', 'yyy', 'zzz', 'xxxx', 'yyyy', 'zzzz']\n"
     ]
    }
   ],
   "source": [
    "#Write List comprehensions to produce the following Lists\n",
    "#['A', 'C', 'A', 'D', 'G', 'I', ’L’, ‘ D’]\n",
    "Word1='ACADGILD'\n",
    "Alpha=[]\n",
    "for i in Word1:\n",
    "    Alpha.append(i)\n",
    "print(str(Alpha))\n",
    "    \n",
    "#['x', 'xx', 'xxx', 'xxxx', 'y', 'yy', 'yyy', 'yyyy', 'z', 'zz', 'zzz', 'zzzz']\n",
    "Word2=['x','y','z']\n",
    "Alpha1=[j*num for j in Word2  for num in range(1,5)]\n",
    "print(Alpha1)\n",
    "\n",
    "#['x', 'y', 'z', 'xx', 'yy', 'zz', 'xx', 'yy', 'zz', 'xxxx', 'yyyy', 'zzzz']\n",
    "Alpha2=[j*num for j in range(1,5) for num in Word2]\n",
    "print(Alpha2)"
   ]
  },
  {
   "cell_type": "code",
   "execution_count": 5,
   "metadata": {},
   "outputs": [
    {
     "name": "stdout",
     "output_type": "stream",
     "text": [
      "[2, 3, 4, 3, 4, 5, 4, 5, 6]\n",
      "[[2, 3, 4, 5], [3, 4, 5, 6], [4, 5, 6, 7], [5, 6, 7, 8]]\n",
      "[(1, 1), (2, 1), (3, 1), (1, 2), (2, 2), (3, 2), (1, 3), (2, 3), (3, 3)]\n"
     ]
    }
   ],
   "source": [
    "#[[2], [3], [4], [3], [4], [5], [4], [5], [6]]\n",
    "Word2=[2,3,4]\n",
    "Alpha1=[j+num for j in range(0,3) for num in Word2]\n",
    "print(Alpha1)\n",
    "#[[2, 3, 4, 5], [3, 4, 5, 6], [4, 5, 6, 7], [5, 6, 7, 8]]\n",
    "list2=[2,3,4,5]\n",
    "Alpha2=[[j+num for j in list2] for num in range(0,4)]\n",
    "print(Alpha2)\n",
    "#[(1, 1), (2, 1), (3, 1), (1, 2), (2, 2), (3, 2), (1, 3), (2, 3), (3, 3)]\n",
    "list3=[1,2,3]\n",
    "Alpha3=[(num,j) for j in list3 for num in range(1,4)]\n",
    "print(Alpha3)"
   ]
  },
  {
   "cell_type": "code",
   "execution_count": 6,
   "metadata": {},
   "outputs": [],
   "source": [
    "def myreduce(anyfunc, sequence):\n",
    "\n",
    "  print(str(anyfunc))  \n",
    "  result = sequence[0]\n",
    "  for item in sequence[1:]:\n",
    "   result = anyfunc(result, item)\n",
    "\n",
    "  return result\n",
    "\n",
    "def sum(x,y): \n",
    "    return x + y\n",
    "def sub(x,y): \n",
    "    return x - y\n",
    "def mull(x,y): \n",
    "    return x * y\n",
    "def div(x,y): \n",
    "    return x / y\n"
   ]
  },
  {
   "cell_type": "code",
   "execution_count": 7,
   "metadata": {},
   "outputs": [
    {
     "name": "stdout",
     "output_type": "stream",
     "text": [
      "<function sub at 0x0000017EC8976318>\n",
      "140\n"
     ]
    }
   ],
   "source": [
    "print(str(myreduce(sub,[200,60])))"
   ]
  },
  {
   "cell_type": "code",
   "execution_count": 8,
   "metadata": {},
   "outputs": [],
   "source": [
    "def myfilter(anyfunc, sequence):\n",
    "\n",
    "# Initialize empty list\n",
    " result = []\n",
    " # iterate the items\n",
    " for item in sequence:\n",
    "  if anyfunc(item):\n",
    "   result.append(item)\n",
    "\n",
    " # return funal output\n",
    " return result\n",
    "\n",
    "# test myfilter function with Positive\n",
    "def ispositive(x):\n",
    " if (x <= 0): \n",
    "  return False \n",
    " else: \n",
    "  return True\n",
    "\n",
    "# test myfilter function with negative\n",
    "def isnegative(x):\n",
    " if (x >= 0): \n",
    "  return False \n",
    " else: \n",
    "  return True\n",
    "\n",
    "# test myfilter function with negative\n",
    "def Isalpbha(x):\n",
    " if (x.isalpha()): \n",
    "  return False \n",
    " else: \n",
    "  return True"
   ]
  },
  {
   "cell_type": "code",
   "execution_count": 9,
   "metadata": {},
   "outputs": [
    {
     "name": "stdout",
     "output_type": "stream",
     "text": [
      "Filter only negative numbers[-2, -3, -4]\n"
     ]
    }
   ],
   "source": [
    "print (\"Filter only negative numbers\"  + str(myfilter(isnegative, [0,1,-2,-3,-4,5])))"
   ]
  },
  {
   "cell_type": "code",
   "execution_count": 10,
   "metadata": {},
   "outputs": [
    {
     "name": "stdout",
     "output_type": "stream",
     "text": [
      "Filter only Positive numbers[1, 5]\n"
     ]
    }
   ],
   "source": [
    "print (\"Filter only Positive numbers\"  + str(myfilter(ispositive, [0,1,-2,-3,-4,5])))"
   ]
  },
  {
   "cell_type": "code",
   "execution_count": 11,
   "metadata": {},
   "outputs": [],
   "source": [
    "# Python Program to find Area of a Triangle\n",
    "#Write a Python Program(with class concepts) to find the area of the triangle using the below formula.\n",
    "\n",
    "class Triangle:\n",
    "    def __init__(self):\n",
    "        number_of_sides=['a','b','c']\n",
    "        print(type(number_of_sides))\n",
    "        self.TriangleSides=number_of_sides\n",
    "        \n",
    "    def sides_Of_Triangle(self):        \n",
    "        self.sides_Of_Traingle=[input(\"Enter the Triangle Side \"+i+\" :\") for i in self.TriangleSides]\n",
    "        for i in self.TriangleSides:\n",
    "            print(i)\n",
    "        \n",
    "#Sub class       \n",
    "class Traingle_Area(Triangle):\n",
    "    def __init__(self):       \n",
    "        Triangle.__init__(self)\n",
    "        \n",
    "    def area_Of_Triangle(self):      \n",
    "        \n",
    "        # Iterator has been created to iterate sides of triangle from collection\n",
    "        triangleSides=iter(self.sides_Of_Traingle)\n",
    "        a=float(next(triangleSides))\n",
    "        b=float(next(triangleSides))\n",
    "        c=float(next(triangleSides))      \n",
    "           \n",
    "        # Half-perimeter (s) of Triangle         \n",
    "        s= (a+b+c)*0.5        \n",
    "        # Area of Triangle         \n",
    "        Area = (s*(s-a)*(s-b)*(s-c))**0.5    \n",
    "        print(\"The sides of triangle are a=\"+str(a)+\", b=\"+str(b)+\", c=\"+str(c))     \n",
    "        Area = ('The Area of the triangle is %0.2f' %Area )\n",
    "        #return Area\n",
    "        print(Area)\n",
    "        "
   ]
  },
  {
   "cell_type": "code",
   "execution_count": 12,
   "metadata": {},
   "outputs": [
    {
     "name": "stdout",
     "output_type": "stream",
     "text": [
      "<class 'list'>\n",
      "Enter the Triangle Side a :12\n",
      "Enter the Triangle Side b :14\n",
      "Enter the Triangle Side c :16\n",
      "a\n",
      "b\n",
      "c\n"
     ]
    }
   ],
   "source": [
    "# Create object of Sub class Traingle_Area()\n",
    "Area_Of_Traingle = Traingle_Area()\n",
    "Area_Of_Traingle.sides_Of_Triangle()\n",
    "\n"
   ]
  },
  {
   "cell_type": "code",
   "execution_count": 13,
   "metadata": {},
   "outputs": [
    {
     "name": "stdout",
     "output_type": "stream",
     "text": [
      "The sides of triangle are a=12.0, b=14.0, c=16.0\n",
      "The Area of the triangle is 81.33\n"
     ]
    }
   ],
   "source": [
    "Area_Of_Traingle.area_Of_Triangle()"
   ]
  },
  {
   "cell_type": "code",
   "execution_count": 14,
   "metadata": {},
   "outputs": [],
   "source": [
    "#Write a function filter_long_words() that takes a list of words and an integer n and returns the list of words that are longer than n\n",
    "def filter_long_words(Word_split,n):\n",
    "    listt=([i for item in Word_split for i in item.split()]) \n",
    "    print('Full list without filter: ', listt)\n",
    "   \n",
    "    firstlist=[]\n",
    "    for words in listt:\n",
    "        if(len(words)>n):\n",
    "            firstlist.append(words)\n",
    "    \n",
    "    print('List of words which is longer than n: ',firstlist)"
   ]
  },
  {
   "cell_type": "code",
   "execution_count": 15,
   "metadata": {},
   "outputs": [
    {
     "name": "stdout",
     "output_type": "stream",
     "text": [
      "Full list without filter:  ['Geeksforgeeks', 'is', 'a', 'portal', 'for', 'geeks', 'This', 'is', 'too', 'bad', 'example']\n",
      "List of words which is longer than n:  ['Geeksforgeeks', 'portal', 'example']\n"
     ]
    }
   ],
   "source": [
    "listt=['Geeksforgeeks is a portal for geeks','This is too bad example']\n",
    "filter_long_words(listt,5)"
   ]
  },
  {
   "cell_type": "code",
   "execution_count": 16,
   "metadata": {},
   "outputs": [],
   "source": [
    "#Write a Python program using function concept that maps list of words into a list of integers representing the lengths of the corresponding words.\n",
    "def map_Words_to_Length(Word_split):\n",
    "    listt=([i for item in Word_split for i in item.split()]) \n",
    "    print('Full list: ', listt)\n",
    "   \n",
    "    firstlist=[]\n",
    "    for words in listt:\n",
    "        firstlist.append(len(words))\n",
    "    \n",
    "    print('Output: Length of Words are : ',firstlist)"
   ]
  },
  {
   "cell_type": "code",
   "execution_count": 17,
   "metadata": {},
   "outputs": [
    {
     "name": "stdout",
     "output_type": "stream",
     "text": [
      "Input : Please enter Words :Swizterland,Italy\n",
      "Full list:  ['Swizterland', 'Italy']\n",
      "Output: Length of Words are :  [11, 5]\n"
     ]
    }
   ],
   "source": [
    "\n",
    "word_List=list(input(\"Input : Please enter Words : \").split(\",\"))\n",
    "map_Words_to_Length(word_List)"
   ]
  },
  {
   "cell_type": "code",
   "execution_count": 18,
   "metadata": {},
   "outputs": [],
   "source": [
    "#Write a Python function which takes a character (i.e. a string of length 1) and returns True if it is a vowel, False otherwise\n",
    "\n",
    "def vowel_checker(inputChar):\n",
    "    Return=''\n",
    "    if(len(inputChar)>1):\n",
    "        print('Please enter only single char to find whether its vowels')\n",
    "    else:\n",
    "        listt=['a','e','i','o','u']\n",
    "        print(listt)\n",
    "        for i in listt:            \n",
    "            if(inputChar.lower()==i):\n",
    "                return True\n",
    "                break\n",
    "        else:\n",
    "            return False\n",
    "       \n",
    "                \n",
    "    "
   ]
  },
  {
   "cell_type": "code",
   "execution_count": 19,
   "metadata": {},
   "outputs": [
    {
     "name": "stdout",
     "output_type": "stream",
     "text": [
      "Please enter string to find vowel or not:a\n",
      "['a', 'e', 'i', 'o', 'u']\n"
     ]
    },
    {
     "data": {
      "text/plain": [
       "True"
      ]
     },
     "execution_count": 19,
     "metadata": {},
     "output_type": "execute_result"
    }
   ],
   "source": [
    "Vowelchar=str(input('Please enter string to find vowel or not:'))\n",
    "vowel_checker(Vowelchar)"
   ]
  },
  {
   "cell_type": "code",
   "execution_count": null,
   "metadata": {},
   "outputs": [],
   "source": []
  }
 ],
 "metadata": {
  "kernelspec": {
   "display_name": "Python 3",
   "language": "python",
   "name": "python3"
  },
  "language_info": {
   "codemirror_mode": {
    "name": "ipython",
    "version": 3
   },
   "file_extension": ".py",
   "mimetype": "text/x-python",
   "name": "python",
   "nbconvert_exporter": "python",
   "pygments_lexer": "ipython3",
   "version": "3.7.4"
  }
 },
 "nbformat": 4,
 "nbformat_minor": 2
}
